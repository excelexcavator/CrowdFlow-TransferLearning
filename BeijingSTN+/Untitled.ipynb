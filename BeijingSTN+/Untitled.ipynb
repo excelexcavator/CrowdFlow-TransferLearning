{
 "cells": [
  {
   "cell_type": "code",
   "execution_count": 1,
   "metadata": {},
   "outputs": [
    {
     "name": "stderr",
     "output_type": "stream",
     "text": [
      "Using TensorFlow backend.\n"
     ]
    },
    {
     "name": "stdout",
     "output_type": "stream",
     "text": [
      "loading data...\n",
      "all_data shape:  (1440, 2, 19, 21)\n",
      "max= 7495.0  min= 0.0\n",
      "mean= -0.8668309461018194  variance= 0.1659217996734766\n",
      "number_of_skip_hours: 192\n"
     ]
    }
   ],
   "source": [
    "#from __future__ import print_function\n",
    "from DATA.lzq_read_data_time_poi import lzq_load_data\n",
    "from keras.callbacks import ModelCheckpoint\n",
    "#import cPickle as pickle\n",
    "import numpy as np\n",
    "#import math\n",
    "\n",
    "NO=1\n",
    "#for reproduction\n",
    "seed=1\n",
    "for i in range(NO):\n",
    "    seed=seed*10+7\n",
    "seed=seed*10+7\n",
    "np.random.seed(seed)\n",
    "#from ipdb import set_trace\n",
    "#set_trace()\n",
    "\n",
    "#for GPU in Lab\n",
    "device=0\n",
    "\n",
    "import tensorflow as tf  #from V1707\n",
    "config=tf.ConfigProto()  #from V1707\n",
    "config.gpu_options.allow_growth=True  #from V1707\n",
    "#config.gpu_options.per_process_gpu_memory_fraction=0.15\n",
    "sess=tf.Session(config=config)  #from V1707\n",
    "#import keras.backend.tensorflow_backend as KTF\n",
    "#KTF._set_session(tf.Session(config=config))\n",
    "\n",
    "from keras import backend as K\n",
    "K.set_image_data_format('channels_first')\n",
    "\n",
    "\n",
    "#load data\n",
    "epoch = 500  # number of epoch at training stage\n",
    "batch_size = 32  # batch size\n",
    "lr = 0.0002  # learning rate\n",
    "\n",
    "H,W,channel = 19,21,2   # grid size\n",
    "\n",
    "T = 24*2  # number of time intervals in one day\n",
    "\n",
    "len_closeness = 3  # length of closeness dependent sequence\n",
    "len_period = 4  # length of peroid dependent sequence\n",
    "\n",
    "T_closeness,T_period=1,T\n",
    "\n",
    "# last 7 days for testing data\n",
    "days_test = 7\n",
    "len_test = T * days_test\n",
    "\n",
    "#the number of repetition and if retrain the model\n",
    "iterate_num=5\n",
    "trainDST=1  #DST\n",
    "train11=1   #DSTN+ResPlus+PoI&Time\n",
    "train10=1   #DSTN+ResPlus\n",
    "train01=1   #DSTN+PoI&Time\n",
    "train00=1   #DSTN\n",
    "\n",
    "\n",
    "print(\"loading data...\")\n",
    "X_train,T_train,P_train,Y_train,X_test,T_test,P_test,Y_test,MM=lzq_load_data(len_test,len_closeness,len_period,T_closeness,T_period)\n",
    "\n",
    "R_N = 4   # number of residual units\n",
    "\n",
    "from keras.optimizers import Adam\n",
    "from DST_network.STResNet import stresnet\n",
    "import DST_network.metrics as metrics\n",
    "\n",
    "def build_model(external_dim,CFN):\n",
    "    c_conf = (len_closeness, channel, H, W) if len_closeness > 0 else None\n",
    "    p_conf = (len_period,    channel, H, W) if len_period    > 0 else None\n",
    "    #t_conf = (len_trend, nb_flow, map_height,\n",
    "    #          map_width) if len_trend > 0 else None\n",
    "\n",
    "    model = stresnet(c_conf=c_conf, p_conf=p_conf, #t_conf=t_conf,\n",
    "                     external_dim=external_dim, nb_residual_unit=R_N, CF=CFN)\n",
    "    \n",
    "    adam = Adam(lr=lr)\n",
    "    model.compile(loss='mse', optimizer=adam, metrics=[metrics.rmse,metrics.mae])\n",
    "    model.summary()\n",
    "    #from keras.utils.visualize_util import plot\n",
    "    #plot(model, to_file='model.png', show_shapes=True)\n",
    "    return model"
   ]
  },
  {
   "cell_type": "code",
   "execution_count": 6,
   "metadata": {},
   "outputs": [
    {
     "name": "stderr",
     "output_type": "stream",
     "text": [
      "/Users/harry/Desktop/MobileBJ/DST_network/STResNet.py:69: UserWarning: Update your `Conv2D` call to the Keras 2 API: `Conv2D(kernel_size=(3, 3), filters=64, padding=\"same\")`\n",
      "  nb_filter=CF, nb_row=3, nb_col=3, border_mode=\"same\")(input)\n",
      "/Users/harry/Desktop/MobileBJ/DST_network/STResNet.py:28: UserWarning: Update your `Conv2D` call to the Keras 2 API: `Conv2D(kernel_size=(3, 3), filters=64, strides=(1, 1), padding=\"same\")`\n",
      "  return Convolution2D(nb_filter=nb_filter, nb_row=nb_row, nb_col=nb_col, subsample=subsample, border_mode=\"same\")(activation)\n"
     ]
    },
    {
     "ename": "TypeError",
     "evalue": "'module' object is not callable",
     "output_type": "error",
     "traceback": [
      "\u001b[0;31m---------------------------------------------------------------------------\u001b[0m",
      "\u001b[0;31mTypeError\u001b[0m                                 Traceback (most recent call last)",
      "\u001b[0;32m<ipython-input-6-aebadd163753>\u001b[0m in \u001b[0;36m<module>\u001b[0;34m()\u001b[0m\n\u001b[1;32m      2\u001b[0m \u001b[0;32mfrom\u001b[0m \u001b[0mIPython\u001b[0m\u001b[0;34m.\u001b[0m\u001b[0mdisplay\u001b[0m \u001b[0;32mimport\u001b[0m \u001b[0mSVG\u001b[0m\u001b[0;34m\u001b[0m\u001b[0m\n\u001b[1;32m      3\u001b[0m \u001b[0;32mfrom\u001b[0m \u001b[0mkeras\u001b[0m\u001b[0;34m.\u001b[0m\u001b[0mutils\u001b[0m\u001b[0;34m.\u001b[0m\u001b[0mvis_utils\u001b[0m \u001b[0;32mimport\u001b[0m \u001b[0mmodel_to_dot\u001b[0m\u001b[0;34m\u001b[0m\u001b[0m\n\u001b[0;32m----> 4\u001b[0;31m \u001b[0mmodel\u001b[0m \u001b[0;34m=\u001b[0m \u001b[0mbuild_model\u001b[0m\u001b[0;34m(\u001b[0m\u001b[0;32mFalse\u001b[0m\u001b[0;34m,\u001b[0m\u001b[0;36m64\u001b[0m\u001b[0;34m)\u001b[0m\u001b[0;34m\u001b[0m\u001b[0m\n\u001b[0m\u001b[1;32m      5\u001b[0m \u001b[0mSVG\u001b[0m\u001b[0;34m(\u001b[0m\u001b[0mmodel_to_dot\u001b[0m\u001b[0;34m(\u001b[0m\u001b[0mmodel\u001b[0m\u001b[0;34m)\u001b[0m\u001b[0;34m.\u001b[0m\u001b[0mcreate\u001b[0m\u001b[0;34m(\u001b[0m\u001b[0mprog\u001b[0m\u001b[0;34m=\u001b[0m\u001b[0;34m'dot'\u001b[0m\u001b[0;34m,\u001b[0m \u001b[0mformat\u001b[0m\u001b[0;34m=\u001b[0m\u001b[0;34m'svg'\u001b[0m\u001b[0;34m)\u001b[0m\u001b[0;34m)\u001b[0m\u001b[0;34m\u001b[0m\u001b[0m\n",
      "\u001b[0;32m<ipython-input-1-be6189939e7d>\u001b[0m in \u001b[0;36mbuild_model\u001b[0;34m(external_dim, CFN)\u001b[0m\n\u001b[1;32m     74\u001b[0m \u001b[0;34m\u001b[0m\u001b[0m\n\u001b[1;32m     75\u001b[0m     model = stresnet(c_conf=c_conf, p_conf=p_conf, #t_conf=t_conf,\n\u001b[0;32m---> 76\u001b[0;31m                      external_dim=external_dim, nb_residual_unit=R_N, CF=CFN)\n\u001b[0m\u001b[1;32m     77\u001b[0m \u001b[0;34m\u001b[0m\u001b[0m\n\u001b[1;32m     78\u001b[0m     \u001b[0madam\u001b[0m \u001b[0;34m=\u001b[0m \u001b[0mAdam\u001b[0m\u001b[0;34m(\u001b[0m\u001b[0mlr\u001b[0m\u001b[0;34m=\u001b[0m\u001b[0mlr\u001b[0m\u001b[0;34m)\u001b[0m\u001b[0;34m\u001b[0m\u001b[0m\n",
      "\u001b[0;32m~/Desktop/MobileBJ/DST_network/STResNet.py\u001b[0m in \u001b[0;36mstresnet\u001b[0;34m(c_conf, p_conf, external_dim, nb_residual_unit, CF)\u001b[0m\n\u001b[1;32m     70\u001b[0m             \u001b[0;31m# [nb_residual_unit] Residual Units\u001b[0m\u001b[0;34m\u001b[0m\u001b[0;34m\u001b[0m\u001b[0m\n\u001b[1;32m     71\u001b[0m             residual_output = ResUnits(_residual_unit, nb_filter=CF,\n\u001b[0;32m---> 72\u001b[0;31m                               repetations=nb_residual_unit)(conv1)\n\u001b[0m\u001b[1;32m     73\u001b[0m             \u001b[0;31m# Conv2\u001b[0m\u001b[0;34m\u001b[0m\u001b[0;34m\u001b[0m\u001b[0m\n\u001b[1;32m     74\u001b[0m             \u001b[0mactivation\u001b[0m \u001b[0;34m=\u001b[0m \u001b[0mActivation\u001b[0m\u001b[0;34m(\u001b[0m\u001b[0;34m'relu'\u001b[0m\u001b[0;34m)\u001b[0m\u001b[0;34m(\u001b[0m\u001b[0mresidual_output\u001b[0m\u001b[0;34m)\u001b[0m\u001b[0;34m\u001b[0m\u001b[0m\n",
      "\u001b[0;32m~/Desktop/MobileBJ/DST_network/STResNet.py\u001b[0m in \u001b[0;36mf\u001b[0;34m(input)\u001b[0m\n\u001b[1;32m     43\u001b[0m             \u001b[0minit_subsample\u001b[0m \u001b[0;34m=\u001b[0m \u001b[0;34m(\u001b[0m\u001b[0;36m1\u001b[0m\u001b[0;34m,\u001b[0m \u001b[0;36m1\u001b[0m\u001b[0;34m)\u001b[0m\u001b[0;34m\u001b[0m\u001b[0m\n\u001b[1;32m     44\u001b[0m             input = residual_unit(nb_filter=nb_filter,\n\u001b[0;32m---> 45\u001b[0;31m                                   init_subsample=init_subsample)(input)\n\u001b[0m\u001b[1;32m     46\u001b[0m         \u001b[0;32mreturn\u001b[0m \u001b[0minput\u001b[0m\u001b[0;34m\u001b[0m\u001b[0m\n\u001b[1;32m     47\u001b[0m     \u001b[0;32mreturn\u001b[0m \u001b[0mf\u001b[0m\u001b[0;34m\u001b[0m\u001b[0m\n",
      "\u001b[0;32m~/Desktop/MobileBJ/DST_network/STResNet.py\u001b[0m in \u001b[0;36mf\u001b[0;34m(input)\u001b[0m\n\u001b[1;32m     34\u001b[0m         \u001b[0mresidual\u001b[0m \u001b[0;34m=\u001b[0m \u001b[0m_bn_relu_conv\u001b[0m\u001b[0;34m(\u001b[0m\u001b[0mnb_filter\u001b[0m\u001b[0;34m,\u001b[0m \u001b[0;36m3\u001b[0m\u001b[0;34m,\u001b[0m \u001b[0;36m3\u001b[0m\u001b[0;34m)\u001b[0m\u001b[0;34m(\u001b[0m\u001b[0minput\u001b[0m\u001b[0;34m)\u001b[0m\u001b[0;34m\u001b[0m\u001b[0m\n\u001b[1;32m     35\u001b[0m         \u001b[0mresidual\u001b[0m \u001b[0;34m=\u001b[0m \u001b[0m_bn_relu_conv\u001b[0m\u001b[0;34m(\u001b[0m\u001b[0mnb_filter\u001b[0m\u001b[0;34m,\u001b[0m \u001b[0;36m3\u001b[0m\u001b[0;34m,\u001b[0m \u001b[0;36m3\u001b[0m\u001b[0;34m)\u001b[0m\u001b[0;34m(\u001b[0m\u001b[0mresidual\u001b[0m\u001b[0;34m)\u001b[0m\u001b[0;34m\u001b[0m\u001b[0m\n\u001b[0;32m---> 36\u001b[0;31m         \u001b[0;32mreturn\u001b[0m \u001b[0m_shortcut\u001b[0m\u001b[0;34m(\u001b[0m\u001b[0minput\u001b[0m\u001b[0;34m,\u001b[0m \u001b[0mresidual\u001b[0m\u001b[0;34m)\u001b[0m\u001b[0;34m\u001b[0m\u001b[0m\n\u001b[0m\u001b[1;32m     37\u001b[0m     \u001b[0;32mreturn\u001b[0m \u001b[0mf\u001b[0m\u001b[0;34m\u001b[0m\u001b[0m\n\u001b[1;32m     38\u001b[0m \u001b[0;34m\u001b[0m\u001b[0m\n",
      "\u001b[0;32m~/Desktop/MobileBJ/DST_network/STResNet.py\u001b[0m in \u001b[0;36m_shortcut\u001b[0;34m(input, residual)\u001b[0m\n\u001b[1;32m     18\u001b[0m \u001b[0;34m\u001b[0m\u001b[0m\n\u001b[1;32m     19\u001b[0m \u001b[0;32mdef\u001b[0m \u001b[0m_shortcut\u001b[0m\u001b[0;34m(\u001b[0m\u001b[0minput\u001b[0m\u001b[0;34m,\u001b[0m \u001b[0mresidual\u001b[0m\u001b[0;34m)\u001b[0m\u001b[0;34m:\u001b[0m\u001b[0;34m\u001b[0m\u001b[0m\n\u001b[0;32m---> 20\u001b[0;31m     \u001b[0;32mreturn\u001b[0m \u001b[0mmerge\u001b[0m\u001b[0;34m(\u001b[0m\u001b[0;34m[\u001b[0m\u001b[0minput\u001b[0m\u001b[0;34m,\u001b[0m \u001b[0mresidual\u001b[0m\u001b[0;34m]\u001b[0m\u001b[0;34m,\u001b[0m \u001b[0mmode\u001b[0m\u001b[0;34m=\u001b[0m\u001b[0;34m'sum'\u001b[0m\u001b[0;34m)\u001b[0m\u001b[0;34m\u001b[0m\u001b[0m\n\u001b[0m\u001b[1;32m     21\u001b[0m \u001b[0;34m\u001b[0m\u001b[0m\n\u001b[1;32m     22\u001b[0m \u001b[0;34m\u001b[0m\u001b[0m\n",
      "\u001b[0;31mTypeError\u001b[0m: 'module' object is not callable"
     ]
    }
   ],
   "source": [
    "from keras.utils import plot_model\n",
    "from IPython.display import SVG\n",
    "from keras.utils.vis_utils import model_to_dot\n",
    "model = build_model(False,64)\n",
    "SVG(model_to_dot(model).create(prog='dot', format='svg'))"
   ]
  },
  {
   "cell_type": "code",
   "execution_count": null,
   "metadata": {},
   "outputs": [],
   "source": []
  }
 ],
 "metadata": {
  "kernelspec": {
   "display_name": "Python 3",
   "language": "python",
   "name": "python3"
  },
  "language_info": {
   "codemirror_mode": {
    "name": "ipython",
    "version": 3
   },
   "file_extension": ".py",
   "mimetype": "text/x-python",
   "name": "python",
   "nbconvert_exporter": "python",
   "pygments_lexer": "ipython3",
   "version": "3.7.0"
  }
 },
 "nbformat": 4,
 "nbformat_minor": 2
}
